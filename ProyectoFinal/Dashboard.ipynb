{
 "cells": [
  {
   "cell_type": "code",
   "execution_count": 6,
   "metadata": {},
   "outputs": [],
   "source": [
    "import pandas as pd\n",
    "import hvplot.pandas\n",
    "import panel as pn\n",
    "\n",
    "df = pd.read_csv('df-reducido.csv')\n"
   ]
  },
  {
   "cell_type": "code",
   "execution_count": 7,
   "metadata": {},
   "outputs": [
    {
     "name": "stdout",
     "output_type": "stream",
     "text": [
      "Launching server at http://localhost:61370\n"
     ]
    },
    {
     "data": {
      "text/plain": [
       "<panel.io.server.Server at 0x27bda261b90>"
      ]
     },
     "execution_count": 7,
     "metadata": {},
     "output_type": "execute_result"
    },
    {
     "name": "stderr",
     "output_type": "stream",
     "text": [
      "WARNING:bokeh.core.validation.check:W-1005 (FIXED_SIZING_MODE): 'fixed' sizing mode requires width and height to be set: Column(id='p1737', ...)\n"
     ]
    }
   ],
   "source": [
    "#Grafico de Barras Entidad - Sexo\n",
    "def plot_residence_counts(sexo):\n",
    "    subset_df = df[df['SEXO'] == sexo]\n",
    "    plot = subset_df['ENTRESIDENCIA'].value_counts().hvplot.bar(title=f'Entidades de Pacientes (Sexo: {sexo})', rot=45)\n",
    "    return plot\n",
    "\n",
    "\n",
    "button = pn.widgets.RadioButtonGroup(options=['MASCULINO', 'FEMENINO'], value='MASCULINO', name='Patient Gender')\n",
    "\n",
    "\n",
    "@pn.depends(sexo=button)\n",
    "def update_plot(sexo):\n",
    "    return plot_residence_counts(sexo)\n",
    "\n",
    "app = pn.Column(button, update_plot)\n",
    "\n",
    "app.show()"
   ]
  },
  {
   "cell_type": "code",
   "execution_count": 8,
   "metadata": {},
   "outputs": [
    {
     "name": "stdout",
     "output_type": "stream",
     "text": [
      "Launching server at http://localhost:61373\n"
     ]
    },
    {
     "data": {
      "text/plain": [
       "<panel.io.server.Server at 0x27bda23f950>"
      ]
     },
     "execution_count": 8,
     "metadata": {},
     "output_type": "execute_result"
    },
    {
     "name": "stderr",
     "output_type": "stream",
     "text": [
      "WARNING:bokeh.core.validation.check:W-1005 (FIXED_SIZING_MODE): 'fixed' sizing mode requires width and height to be set: Column(id='p1800', ...)\n"
     ]
    }
   ],
   "source": [
    "\n",
    "\n",
    "#Gráfica de Barras Entidad - Padecimiento\n",
    "def plot_top_afecprin_counts(entidad):\n",
    "    subset_df = df[df['ENTRESIDENCIA'] == entidad]\n",
    "    top_afecprin = subset_df['AFECPRIN'].value_counts().nlargest(20)\n",
    "    plot = top_afecprin.hvplot.barh(width=800, height=400, title=f'Afectaciones Princiaples En: {entidad}')\n",
    "    return plot\n",
    "\n",
    "dropdown = pn.widgets.Select(options=df['ENTRESIDENCIA'].unique().tolist(), name='Entidad')\n",
    "\n",
    "@pn.depends(entidad=dropdown)\n",
    "def update_plot(entidad):\n",
    "    return plot_top_afecprin_counts(entidad)\n",
    "\n",
    "\n",
    "app = pn.Column(dropdown, update_plot)\n",
    "\n",
    "app.show()"
   ]
  }
 ],
 "metadata": {
  "kernelspec": {
   "display_name": "base",
   "language": "python",
   "name": "python3"
  },
  "language_info": {
   "codemirror_mode": {
    "name": "ipython",
    "version": 3
   },
   "file_extension": ".py",
   "mimetype": "text/x-python",
   "name": "python",
   "nbconvert_exporter": "python",
   "pygments_lexer": "ipython3",
   "version": "3.11.7"
  }
 },
 "nbformat": 4,
 "nbformat_minor": 2
}
